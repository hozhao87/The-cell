{
 "cells": [
  {
   "cell_type": "markdown",
   "id": "b47a3d1e-bb48-4265-b83a-1e378223c7e4",
   "metadata": {},
   "source": [
    "# The_cell"
   ]
  },
  {
   "cell_type": "code",
   "execution_count": 2,
   "id": "c52696ea-d8a0-42a2-bdc4-849660746e3d",
   "metadata": {},
   "outputs": [],
   "source": [
    "# Define My Requirements\n",
    "# The app should be able to:\n",
    "\n",
    "# Take a user input for a protein name.\n",
    "# Fetch 3D structure information from a reliable source (like the RCSB PDB or NCBI).\n",
    "# Retrieve additional details from Wikipedia or NCBI."
   ]
  },
  {
   "cell_type": "code",
   "execution_count": null,
   "id": "f55084d4-082c-4d2c-ac70-bdb001c2fb71",
   "metadata": {},
   "outputs": [],
   "source": [
    "# Set Up Your Environment\n",
    "#Make sure you have Python installed along with any necessary libraries. You may need:\n",
    "\n",
    "# requests for making API calls.\n",
    "# json for handling JSON data.\n",
    "# py3Dmol or matplotlib for 3D visualization (if applicable)."
   ]
  },
  {
   "cell_type": "code",
   "execution_count": 8,
   "id": "0083cc86-a40a-42e7-9ea3-964346dee8e0",
   "metadata": {},
   "outputs": [
    {
     "name": "stdout",
     "output_type": "stream",
     "text": [
      "Requirement already satisfied: requests in /usr/local/anaconda3/lib/python3.12/site-packages (2.32.2)\n",
      "Requirement already satisfied: charset-normalizer<4,>=2 in /usr/local/anaconda3/lib/python3.12/site-packages (from requests) (2.0.4)\n",
      "Requirement already satisfied: idna<4,>=2.5 in /usr/local/anaconda3/lib/python3.12/site-packages (from requests) (3.7)\n",
      "Requirement already satisfied: urllib3<3,>=1.21.1 in /usr/local/anaconda3/lib/python3.12/site-packages (from requests) (2.2.2)\n",
      "Requirement already satisfied: certifi>=2017.4.17 in /usr/local/anaconda3/lib/python3.12/site-packages (from requests) (2024.8.30)\n",
      "Note: you may need to restart the kernel to use updated packages.\n"
     ]
    }
   ],
   "source": [
    "pip install requests"
   ]
  },
  {
   "cell_type": "code",
   "execution_count": 234,
   "id": "61097bef-3f4d-4e52-bc51-c39d3e3833d5",
   "metadata": {},
   "outputs": [],
   "source": [
    "# Function to call user input\n",
    "\n",
    "def get_user_input():\n",
    "    return input(\"Enter the protein name (or type 'exit' to quit): \")\n"
   ]
  },
  {
   "cell_type": "code",
   "execution_count": 123,
   "id": "675adf53-0ffd-4ab3-aa78-9d73c2fe833e",
   "metadata": {},
   "outputs": [
    {
     "name": "stdin",
     "output_type": "stream",
     "text": [
      "Enter the name of the cell or protein:  CTCF\n"
     ]
    }
   ],
   "source": [
    "protein_input = get_user_input()"
   ]
  },
  {
   "cell_type": "code",
   "execution_count": null,
   "id": "0c7325f9-02e0-4ca9-8571-a2e1c6e1f3bc",
   "metadata": {},
   "outputs": [],
   "source": [
    "# Function to fetch proteins name from data source\n",
    "# Data Fetching:\n",
    "# The fetch_structure_data function retrieves structure data from the RCSB PDB API.\n",
    "# The fetch_wikipedia_info function fetches relevant information from Wikipedia using its API."
   ]
  },
  {
   "cell_type": "code",
   "execution_count": 175,
   "id": "a7c95bde-0c86-483a-97c1-d8ca28fd68a2",
   "metadata": {},
   "outputs": [],
   "source": [
    "def fetch_structure_data(protein_name):\n",
    "    # Fetch data from RCSB PDB\n",
    "    url = f\"https://www.ebi.ac.uk/pdbe/api/pdb/entry/summary/{protein_name}\"\n",
    "    response = requests.get(url)\n",
    "    if response.status_code == 200:\n",
    "        data = response.json()\n",
    "        if data:\n",
    "            pdb_id = data[0]['pdb_id'] if 'pdb_id' in data[0] else None\n",
    "            rcsb_link = f\"https://www.rcsb.org/structure/{pdb_id}\" if pdb_id else None\n",
    "            return data, rcsb_link\n",
    "    return None, None"
   ]
  },
  {
   "cell_type": "code",
   "execution_count": 179,
   "id": "43bfb5b6-681e-483e-8f02-053a1ce62da3",
   "metadata": {},
   "outputs": [],
   "source": [
    "# function to fentch information from Wikipedia\n",
    "\n",
    "def fetch_wikipedia_info(protein_name):\n",
    "    url = f\"https://en.wikipedia.org/w/api.php?action=query&format=json&titles={protein_name}&prop=extracts&exintro=&explaintext=\"\n",
    "    response = requests.get(url)\n",
    "    if response.status_code == 200:\n",
    "        return response.json()\n",
    "        \n",
    "    return None"
   ]
  },
  {
   "cell_type": "code",
   "execution_count": 254,
   "id": "cee608a1-2179-49ca-b5ce-7be11fc677c4",
   "metadata": {},
   "outputs": [],
   "source": [
    "import requests\n",
    "\n",
    "def fetch_protein_names():\n",
    "    url = \"https://rest.uniprot.org/uniprotkb/stream?fields=protein_name&format=tsv&query=organism_id:9606\"\n",
    "    response = requests.get(url)\n",
    "    \n",
    "    if response.status_code == 200:\n",
    "        lines = response.text.strip().split(\"\\n\")\n",
    "        \n",
    "        # Check that there are results beyond the header row\n",
    "        if len(lines) > 1:\n",
    "            protein_names = []\n",
    "            for line in lines[1:]:  # Skip the header row\n",
    "                parts = line.split(\"\\t\")\n",
    "                if len(parts) > 1:  # Check if there are enough elements after splitting\n",
    "                    protein_names.append(parts[1])\n",
    "            return protein_names\n",
    "        \n",
    "        else:\n",
    "            print(\"No protein names found in the response.\")\n",
    "            return []\n",
    "    else:\n",
    "        print(f\"Failed to fetch protein names. Status code: {response.status_code}\")\n",
    "        return []\n",
    "\n"
   ]
  },
  {
   "cell_type": "code",
   "execution_count": null,
   "id": "6100eaeb-5f18-4788-ac1d-e01716b63954",
   "metadata": {},
   "outputs": [],
   "source": [
    "# Test the function to ensure it handles the error properly\n",
    "print(fetch_protein_names())"
   ]
  },
  {
   "cell_type": "code",
   "execution_count": 29,
   "id": "ed2e0be2-3880-4a16-95ba-079e16f83c7c",
   "metadata": {},
   "outputs": [],
   "source": [
    "# Error Handling for User Input"
   ]
  },
  {
   "cell_type": "code",
   "execution_count": 26,
   "id": "344f5268-240d-48ce-93be-647eab7f5a34",
   "metadata": {},
   "outputs": [
    {
     "name": "stdout",
     "output_type": "stream",
     "text": [
      "Collecting fuzzywuzzy\n",
      "  Downloading fuzzywuzzy-0.18.0-py2.py3-none-any.whl.metadata (4.9 kB)\n",
      "Downloading fuzzywuzzy-0.18.0-py2.py3-none-any.whl (18 kB)\n",
      "Installing collected packages: fuzzywuzzy\n",
      "Successfully installed fuzzywuzzy-0.18.0\n",
      "Note: you may need to restart the kernel to use updated packages.\n"
     ]
    }
   ],
   "source": [
    "pip install fuzzywuzzy\n"
   ]
  },
  {
   "cell_type": "code",
   "execution_count": 27,
   "id": "e8be52f3-2826-40ca-ad23-830bcbd42ae4",
   "metadata": {},
   "outputs": [
    {
     "name": "stdout",
     "output_type": "stream",
     "text": [
      "Collecting python-Levenshtein\n",
      "  Downloading python_Levenshtein-0.26.0-py3-none-any.whl.metadata (3.7 kB)\n",
      "Collecting Levenshtein==0.26.0 (from python-Levenshtein)\n",
      "  Downloading levenshtein-0.26.0.tar.gz (374 kB)\n",
      "\u001b[2K     \u001b[90m━━━━━━━━━━━━━━━━━━━━━━━━━━━━━━━━━━━━━━━\u001b[0m \u001b[32m374.3/374.3 kB\u001b[0m \u001b[31m4.6 MB/s\u001b[0m eta \u001b[36m0:00:00\u001b[0m00:01\u001b[0m00:01\u001b[0m\n",
      "\u001b[?25h  Installing build dependencies ... \u001b[?25ldone\n",
      "\u001b[?25h  Getting requirements to build wheel ... \u001b[?25ldone\n",
      "\u001b[?25h  Installing backend dependencies ... \u001b[?25ldone\n",
      "\u001b[?25h  Preparing metadata (pyproject.toml) ... \u001b[?25ldone\n",
      "\u001b[?25hCollecting rapidfuzz<4.0.0,>=3.9.0 (from Levenshtein==0.26.0->python-Levenshtein)\n",
      "  Downloading rapidfuzz-3.10.1-cp312-cp312-macosx_10_13_x86_64.whl.metadata (11 kB)\n",
      "Downloading python_Levenshtein-0.26.0-py3-none-any.whl (9.4 kB)\n",
      "Downloading rapidfuzz-3.10.1-cp312-cp312-macosx_10_13_x86_64.whl (1.9 MB)\n",
      "\u001b[2K   \u001b[90m━━━━━━━━━━━━━━━━━━━━━━━━━━━━━━━━━━━━━━━━\u001b[0m \u001b[32m1.9/1.9 MB\u001b[0m \u001b[31m12.6 MB/s\u001b[0m eta \u001b[36m0:00:00\u001b[0m00:01\u001b[0m00:01\u001b[0m\n",
      "\u001b[?25hBuilding wheels for collected packages: Levenshtein\n",
      "  Building wheel for Levenshtein (pyproject.toml) ... \u001b[?25ldone\n",
      "\u001b[?25h  Created wheel for Levenshtein: filename=levenshtein-0.26.0-cp312-cp312-macosx_10_16_x86_64.whl size=181900 sha256=de61af41f0ccce7c5e58d21ec56d30354c7a5d304fa2d9ec1f7806d39a476492\n",
      "  Stored in directory: /Users/hongleizhao/Library/Caches/pip/wheels/55/62/87/4aad4c92373357dc5841529daf2055f5a17d42f41d887b3e64\n",
      "Successfully built Levenshtein\n",
      "Installing collected packages: rapidfuzz, Levenshtein, python-Levenshtein\n",
      "Successfully installed Levenshtein-0.26.0 python-Levenshtein-0.26.0 rapidfuzz-3.10.1\n",
      "Note: you may need to restart the kernel to use updated packages.\n"
     ]
    }
   ],
   "source": [
    "pip install python-Levenshtein"
   ]
  },
  {
   "cell_type": "code",
   "execution_count": 261,
   "id": "55559922-7f17-4a9f-b2e0-361c37f2b798",
   "metadata": {},
   "outputs": [],
   "source": [
    "from fuzzywuzzy import process\n",
    "\n",
    "def get_best_match(user_input, valid_proteins):\n",
    "    # Use fuzzywuzzy to find the best match\n",
    "    match_result = process.extractOne(user_input, valid_proteins)\n",
    "    \n",
    "    # Check if a match was found before unpacking\n",
    "    if match_result is not None:\n",
    "        match, score = match_result\n",
    "        # Set a threshold score for acceptable matches (adjust as necessary)\n",
    "        if score > 70:  # 70 is a common threshold, adjust as needed\n",
    "            return match\n",
    "    return None  # No suitable match found\n"
   ]
  },
  {
   "cell_type": "code",
   "execution_count": 263,
   "id": "988056dc-b5cb-4da0-a351-1e4b625ffbb9",
   "metadata": {},
   "outputs": [],
   "source": [
    "\n",
    "def display_results(structure_data, rcsb_link, wiki_info):\n",
    "    if structure_data:\n",
    "        print(\"Structure Data:\", structure_data)\n",
    "        if rcsb_link:\n",
    "            print(\"RCSB PDB Link:\", rcsb_link)\n",
    "    else:\n",
    "        print(\"No structure data found.\")\n",
    "\n",
    "    if wiki_info and 'query' in wiki_info:\n",
    "        pages = wiki_info['query']['pages']\n",
    "        for page_id, page in pages.items():\n",
    "            if 'extract' in page:\n",
    "                print(\"Wikipedia Info:\", page['extract'])\n",
    "            else:\n",
    "                print(\"No information found on Wikipedia.\")\n"
   ]
  },
  {
   "cell_type": "code",
   "execution_count": null,
   "id": "d62c91f7-94e6-4145-a2d3-51ecfcfcae43",
   "metadata": {},
   "outputs": [
    {
     "name": "stdout",
     "output_type": "stream",
     "text": [
      "Welcome to The Cell!\n"
     ]
    },
    {
     "name": "stdin",
     "output_type": "stream",
     "text": [
      "Enter the protein name (or type 'exit' to quit):  ctcf\n"
     ]
    },
    {
     "name": "stderr",
     "output_type": "stream",
     "text": [
      "IOPub data rate exceeded.\n",
      "The Jupyter server will temporarily stop sending output\n",
      "to the client in order to avoid crashing it.\n",
      "To change this limit, set the config variable\n",
      "`--ServerApp.iopub_data_rate_limit`.\n",
      "\n",
      "Current values:\n",
      "ServerApp.iopub_data_rate_limit=1000000.0 (bytes/sec)\n",
      "ServerApp.rate_limit_window=3.0 (secs)\n",
      "\n"
     ]
    }
   ],
   "source": [
    "print (\"Welcome to The Cell!\")\n",
    "\n",
    "\n",
    "protein_name = get_user_input()\n",
    "valid_proteins = fetch_protein_names()\n",
    "best_match = get_best_match(protein_name, valid_proteins)\n",
    "structure_data = fetch_structure_data(protein_name)\n",
    "wiki_info = fetch_wikipedia_info(protein_name)\n",
    "\n",
    "\n",
    "while True:\n",
    "    if protein_name.lower() == 'exit':\n",
    "        break\n",
    "        \n",
    "    if best_match:\n",
    "        print(f\"Did you mean: {best_match}?\")\n",
    "        display_results(structure_data, rcsb_link, wiki_info)[:10]\n",
    "         \n",
    "    else:\n",
    "        print(\"No matching protein found. Please check the name and try again.\")\n",
    "    \n"
   ]
  },
  {
   "cell_type": "code",
   "execution_count": null,
   "id": "23cb57ef-27ac-4ce5-b781-722900e50f44",
   "metadata": {},
   "outputs": [],
   "source": [
    "with open(\"output.txt\", \"w\") as f:\n",
    "    f.write(str(data))"
   ]
  }
 ],
 "metadata": {
  "kernelspec": {
   "display_name": "Python 3 (ipykernel)",
   "language": "python",
   "name": "python3"
  },
  "language_info": {
   "codemirror_mode": {
    "name": "ipython",
    "version": 3
   },
   "file_extension": ".py",
   "mimetype": "text/x-python",
   "name": "python",
   "nbconvert_exporter": "python",
   "pygments_lexer": "ipython3",
   "version": "3.12.4"
  }
 },
 "nbformat": 4,
 "nbformat_minor": 5
}
